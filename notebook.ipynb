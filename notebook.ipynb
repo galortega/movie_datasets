{
 "cells": [
  {
   "attachments": {},
   "cell_type": "markdown",
   "metadata": {},
   "source": [
    "# Datasets de películas"
   ]
  },
  {
   "attachments": {},
   "cell_type": "markdown",
   "metadata": {},
   "source": [
    "## Instalación de librerías"
   ]
  },
  {
   "cell_type": "code",
   "execution_count": 24,
   "metadata": {},
   "outputs": [
    {
     "name": "stdout",
     "output_type": "stream",
     "text": [
      "Defaulting to user installation because normal site-packages is not writeable\n",
      "Requirement already satisfied: pandas in /home/galo/.local/lib/python3.10/site-packages (2.0.3)\n",
      "Requirement already satisfied: numpy>=1.21.0 in /home/galo/.local/lib/python3.10/site-packages (from pandas) (1.25.0)\n",
      "Requirement already satisfied: tzdata>=2022.1 in /home/galo/.local/lib/python3.10/site-packages (from pandas) (2023.3)\n",
      "Requirement already satisfied: python-dateutil>=2.8.2 in /home/galo/.local/lib/python3.10/site-packages (from pandas) (2.8.2)\n",
      "Requirement already satisfied: pytz>=2020.1 in /usr/lib/python3/dist-packages (from pandas) (2022.1)\n",
      "Requirement already satisfied: six>=1.5 in /usr/lib/python3/dist-packages (from python-dateutil>=2.8.2->pandas) (1.16.0)\n",
      "Note: you may need to restart the kernel to use updated packages.\n"
     ]
    }
   ],
   "source": [
    "pip install pandas"
   ]
  },
  {
   "cell_type": "code",
   "execution_count": 25,
   "metadata": {},
   "outputs": [
    {
     "name": "stdout",
     "output_type": "stream",
     "text": [
      "Defaulting to user installation because normal site-packages is not writeable\n",
      "Requirement already satisfied: chardet in /usr/lib/python3/dist-packages (4.0.0)\n",
      "Note: you may need to restart the kernel to use updated packages.\n"
     ]
    }
   ],
   "source": [
    "pip install chardet"
   ]
  },
  {
   "cell_type": "code",
   "execution_count": 26,
   "metadata": {},
   "outputs": [],
   "source": [
    "import pandas as pd"
   ]
  },
  {
   "attachments": {},
   "cell_type": "markdown",
   "metadata": {},
   "source": [
    "## Analizando los datasets que nos han otorgado"
   ]
  },
  {
   "cell_type": "code",
   "execution_count": 27,
   "metadata": {},
   "outputs": [],
   "source": [
    "import chardet"
   ]
  },
  {
   "cell_type": "code",
   "execution_count": 28,
   "metadata": {},
   "outputs": [
    {
     "name": "stdout",
     "output_type": "stream",
     "text": [
      "Windows-1252\n"
     ]
    }
   ],
   "source": [
    "with open(\"data/movie_dataset.csv\", \"rb\") as f:\n",
    "    result = chardet.detect(f.read())\n",
    "\n",
    "df1_encoding = result[\"encoding\"]\n",
    "    \n",
    "print(result[\"encoding\"])"
   ]
  },
  {
   "cell_type": "code",
   "execution_count": 29,
   "metadata": {},
   "outputs": [],
   "source": [
    "\n",
    "df1 = pd.read_csv(\"data/movie_dataset.csv\", delimiter=';', encoding=df1_encoding)"
   ]
  },
  {
   "cell_type": "code",
   "execution_count": 30,
   "metadata": {},
   "outputs": [
    {
     "name": "stdout",
     "output_type": "stream",
     "text": [
      "utf-8\n"
     ]
    }
   ],
   "source": [
    "with open(\"data/IMDB Dataset.csv\", \"rb\") as f:\n",
    "    result = chardet.detect(f.read())\n",
    "\n",
    "df2_encoding = result[\"encoding\"]\n",
    "    \n",
    "print(result[\"encoding\"])\n"
   ]
  },
  {
   "cell_type": "code",
   "execution_count": 31,
   "metadata": {},
   "outputs": [],
   "source": [
    "\n",
    "df2 = pd.read_csv(\"data/IMDB Dataset.csv\", delimiter=';', encoding=df2_encoding)"
   ]
  },
  {
   "cell_type": "code",
   "execution_count": 32,
   "metadata": {},
   "outputs": [
    {
     "data": {
      "text/plain": [
       "Index(['index', 'budget', 'genres', 'homepage', 'id', 'keywords',\n",
       "       'original_language', 'original_title', 'overview', 'popularity',\n",
       "       'production_companies', 'production_countries', 'release_date',\n",
       "       'revenue', 'runtime', 'spoken_languages', 'status', 'tagline', 'title',\n",
       "       'vote_average', 'vote_count', 'cast', 'crew', 'director'],\n",
       "      dtype='object')"
      ]
     },
     "execution_count": 32,
     "metadata": {},
     "output_type": "execute_result"
    }
   ],
   "source": [
    "# print df1 collumns \n",
    "df1.columns\n"
   ]
  },
  {
   "attachments": {},
   "cell_type": "markdown",
   "metadata": {},
   "source": [
    "## Imprimiendo columnas del dataset IMDB\n",
    "Este dataset no es útil ya que no cuenta con el título de las películas, por lo tanto no existe manera de unirlo"
   ]
  },
  {
   "cell_type": "code",
   "execution_count": 33,
   "metadata": {},
   "outputs": [
    {
     "data": {
      "text/plain": [
       "Index(['review,sentiment', 'Unnamed: 1', 'Unnamed: 2', 'Unnamed: 3',\n",
       "       'Unnamed: 4', 'Unnamed: 5', 'Unnamed: 6'],\n",
       "      dtype='object')"
      ]
     },
     "execution_count": 33,
     "metadata": {},
     "output_type": "execute_result"
    }
   ],
   "source": [
    "df2.columns"
   ]
  },
  {
   "cell_type": "code",
   "execution_count": 34,
   "metadata": {},
   "outputs": [
    {
     "data": {
      "text/html": [
       "<div>\n",
       "<style scoped>\n",
       "    .dataframe tbody tr th:only-of-type {\n",
       "        vertical-align: middle;\n",
       "    }\n",
       "\n",
       "    .dataframe tbody tr th {\n",
       "        vertical-align: top;\n",
       "    }\n",
       "\n",
       "    .dataframe thead th {\n",
       "        text-align: right;\n",
       "    }\n",
       "</style>\n",
       "<table border=\"1\" class=\"dataframe\">\n",
       "  <thead>\n",
       "    <tr style=\"text-align: right;\">\n",
       "      <th></th>\n",
       "      <th>review,sentiment</th>\n",
       "      <th>Unnamed: 1</th>\n",
       "      <th>Unnamed: 2</th>\n",
       "      <th>Unnamed: 3</th>\n",
       "      <th>Unnamed: 4</th>\n",
       "      <th>Unnamed: 5</th>\n",
       "      <th>Unnamed: 6</th>\n",
       "    </tr>\n",
       "  </thead>\n",
       "  <tbody>\n",
       "    <tr>\n",
       "      <th>0</th>\n",
       "      <td>One of the other reviewers has mentioned that ...</td>\n",
       "      <td>NaN</td>\n",
       "      <td>NaN</td>\n",
       "      <td>NaN</td>\n",
       "      <td>NaN</td>\n",
       "      <td>NaN</td>\n",
       "      <td>NaN</td>\n",
       "    </tr>\n",
       "    <tr>\n",
       "      <th>1</th>\n",
       "      <td>A wonderful little production. &lt;br /&gt;&lt;br /&gt;The...</td>\n",
       "      <td>NaN</td>\n",
       "      <td>NaN</td>\n",
       "      <td>NaN</td>\n",
       "      <td>NaN</td>\n",
       "      <td>NaN</td>\n",
       "      <td>NaN</td>\n",
       "    </tr>\n",
       "    <tr>\n",
       "      <th>2</th>\n",
       "      <td>I thought this was a wonderful way to spend ti...</td>\n",
       "      <td>NaN</td>\n",
       "      <td>NaN</td>\n",
       "      <td>NaN</td>\n",
       "      <td>NaN</td>\n",
       "      <td>NaN</td>\n",
       "      <td>NaN</td>\n",
       "    </tr>\n",
       "    <tr>\n",
       "      <th>3</th>\n",
       "      <td>Basically there's a family where a little boy ...</td>\n",
       "      <td>NaN</td>\n",
       "      <td>NaN</td>\n",
       "      <td>NaN</td>\n",
       "      <td>NaN</td>\n",
       "      <td>NaN</td>\n",
       "      <td>NaN</td>\n",
       "    </tr>\n",
       "  </tbody>\n",
       "</table>\n",
       "</div>"
      ],
      "text/plain": [
       "                                    review,sentiment Unnamed: 1 Unnamed: 2  \\\n",
       "0  One of the other reviewers has mentioned that ...        NaN        NaN   \n",
       "1  A wonderful little production. <br /><br />The...        NaN        NaN   \n",
       "2  I thought this was a wonderful way to spend ti...        NaN        NaN   \n",
       "3  Basically there's a family where a little boy ...        NaN        NaN   \n",
       "\n",
       "  Unnamed: 3 Unnamed: 4 Unnamed: 5 Unnamed: 6  \n",
       "0        NaN        NaN        NaN        NaN  \n",
       "1        NaN        NaN        NaN        NaN  \n",
       "2        NaN        NaN        NaN        NaN  \n",
       "3        NaN        NaN        NaN        NaN  "
      ]
     },
     "execution_count": 34,
     "metadata": {},
     "output_type": "execute_result"
    }
   ],
   "source": [
    "# print df2 first row\n",
    "df2.head(4)"
   ]
  },
  {
   "cell_type": "code",
   "execution_count": 35,
   "metadata": {},
   "outputs": [],
   "source": [
    "# parse df1.release_date to datetime if it is not null\n",
    "df1['release_date'] = pd.to_datetime(df1['release_date'], errors='coerce')"
   ]
  },
  {
   "cell_type": "code",
   "execution_count": 36,
   "metadata": {},
   "outputs": [
    {
     "name": "stdout",
     "output_type": "stream",
     "text": [
      "2017-03-02 00:00:00\n",
      "1916-04-09 00:00:00\n"
     ]
    }
   ],
   "source": [
    "# print max and min release_date of df1\n",
    "print(df1['release_date'].max())\n",
    "print(df1['release_date'].min())"
   ]
  },
  {
   "cell_type": "code",
   "execution_count": 37,
   "metadata": {},
   "outputs": [
    {
     "data": {
      "text/plain": [
       "591"
      ]
     },
     "execution_count": 37,
     "metadata": {},
     "output_type": "execute_result"
    }
   ],
   "source": [
    "# count how many rows in the dataset with release_date after 2010\n",
    "df1[df1['release_date'] > '2010-01-01'].shape[0]"
   ]
  },
  {
   "attachments": {},
   "cell_type": "markdown",
   "metadata": {},
   "source": [
    "## Elección del dataset\n",
    "Se usará data/movie_dataset con las películas que hayan sido lanzadas desde el año 2010 en adelante"
   ]
  },
  {
   "cell_type": "code",
   "execution_count": 38,
   "metadata": {},
   "outputs": [],
   "source": [
    "# create a dataset of df1[df1['release_date'] > '2010-01-01'].shape[0]\n",
    "df = df1[df1['release_date'] > '2010-01-01']"
   ]
  },
  {
   "cell_type": "code",
   "execution_count": 39,
   "metadata": {},
   "outputs": [
    {
     "data": {
      "text/plain": [
       "(591, 24)"
      ]
     },
     "execution_count": 39,
     "metadata": {},
     "output_type": "execute_result"
    }
   ],
   "source": [
    "df.shape"
   ]
  },
  {
   "cell_type": "code",
   "execution_count": 40,
   "metadata": {},
   "outputs": [
    {
     "name": "stdout",
     "output_type": "stream",
     "text": [
      "utf-8\n"
     ]
    }
   ],
   "source": [
    "with open(\"data/TMBD.csv\", \"rb\") as f:\n",
    "    result = chardet.detect(f.read())\n",
    "\n",
    "df3_encoding = result[\"encoding\"]\n",
    "    \n",
    "print(result[\"encoding\"])"
   ]
  },
  {
   "cell_type": "code",
   "execution_count": 41,
   "metadata": {},
   "outputs": [],
   "source": [
    "df3 = pd.read_csv(\"data/TMBD.csv\", delimiter=',', encoding=df3_encoding)"
   ]
  },
  {
   "cell_type": "code",
   "execution_count": 42,
   "metadata": {},
   "outputs": [
    {
     "data": {
      "text/plain": [
       "Index(['original_title', 'overview', 'popularity', 'release_date',\n",
       "       'vote_average', 'vote_count', 'budget', 'keywords',\n",
       "       'production_companies'],\n",
       "      dtype='object')"
      ]
     },
     "execution_count": 42,
     "metadata": {},
     "output_type": "execute_result"
    }
   ],
   "source": [
    "df3.columns"
   ]
  },
  {
   "cell_type": "code",
   "execution_count": 43,
   "metadata": {},
   "outputs": [
    {
     "data": {
      "text/plain": [
       "Index(['index', 'budget', 'genres', 'homepage', 'id', 'keywords',\n",
       "       'original_language', 'original_title', 'overview', 'popularity',\n",
       "       'production_companies', 'production_countries', 'release_date',\n",
       "       'revenue', 'runtime', 'spoken_languages', 'status', 'tagline', 'title',\n",
       "       'vote_average', 'vote_count', 'cast', 'crew', 'director'],\n",
       "      dtype='object')"
      ]
     },
     "execution_count": 43,
     "metadata": {},
     "output_type": "execute_result"
    }
   ],
   "source": [
    "df.columns"
   ]
  },
  {
   "cell_type": "code",
   "execution_count": 44,
   "metadata": {},
   "outputs": [
    {
     "data": {
      "text/html": [
       "<div>\n",
       "<style scoped>\n",
       "    .dataframe tbody tr th:only-of-type {\n",
       "        vertical-align: middle;\n",
       "    }\n",
       "\n",
       "    .dataframe tbody tr th {\n",
       "        vertical-align: top;\n",
       "    }\n",
       "\n",
       "    .dataframe thead th {\n",
       "        text-align: right;\n",
       "    }\n",
       "</style>\n",
       "<table border=\"1\" class=\"dataframe\">\n",
       "  <thead>\n",
       "    <tr style=\"text-align: right;\">\n",
       "      <th></th>\n",
       "      <th>index</th>\n",
       "      <th>budget</th>\n",
       "      <th>genres</th>\n",
       "      <th>homepage</th>\n",
       "      <th>id</th>\n",
       "      <th>keywords</th>\n",
       "      <th>original_language</th>\n",
       "      <th>original_title</th>\n",
       "      <th>overview</th>\n",
       "      <th>popularity</th>\n",
       "      <th>...</th>\n",
       "      <th>runtime</th>\n",
       "      <th>spoken_languages</th>\n",
       "      <th>status</th>\n",
       "      <th>tagline</th>\n",
       "      <th>title</th>\n",
       "      <th>vote_average</th>\n",
       "      <th>vote_count</th>\n",
       "      <th>cast</th>\n",
       "      <th>crew</th>\n",
       "      <th>director</th>\n",
       "    </tr>\n",
       "  </thead>\n",
       "  <tbody>\n",
       "    <tr>\n",
       "      <th>3679</th>\n",
       "      <td>1672.0</td>\n",
       "      <td>30000000.0</td>\n",
       "      <td>Adventure Drama Action History War</td>\n",
       "      <td>http://www.1911movie.com/</td>\n",
       "      <td>76349</td>\n",
       "      <td>martial arts sword revolution blood gunfight</td>\n",
       "      <td>zh</td>\n",
       "      <td>????</td>\n",
       "      <td>At the beginning of the 20th century, China is...</td>\n",
       "      <td>4065212</td>\n",
       "      <td>...</td>\n",
       "      <td>1250.0</td>\n",
       "      <td>[{\"iso_639_1\": \"fr\", \"name\": \"Fran\\u00e7ais\"},...</td>\n",
       "      <td>Released</td>\n",
       "      <td>Fall of the Last Empire</td>\n",
       "      <td>1911</td>\n",
       "      <td>50.0</td>\n",
       "      <td>41.0</td>\n",
       "      <td>Jackie Chan Li Bingbing Joan Chen Jaycee Chan ...</td>\n",
       "      <td>[{'name': 'Jackie Chan', 'gender': 2, 'departm...</td>\n",
       "      <td>Jackie Chan</td>\n",
       "    </tr>\n",
       "    <tr>\n",
       "      <th>4014</th>\n",
       "      <td>1304.0</td>\n",
       "      <td>3860000.0</td>\n",
       "      <td>Action Drama History</td>\n",
       "      <td>NaN</td>\n",
       "      <td>44865</td>\n",
       "      <td>martial arts kung fu biography kung fu master</td>\n",
       "      <td>zh</td>\n",
       "      <td>????</td>\n",
       "      <td>Ip Man's peaceful life in Foshan changes after...</td>\n",
       "      <td>1,99473E+16</td>\n",
       "      <td>...</td>\n",
       "      <td>1300.0</td>\n",
       "      <td>[{\"iso_639_1\": \"cn\", \"name\": \"\\u5e7f\\u5dde\\u8b...</td>\n",
       "      <td>Released</td>\n",
       "      <td>In Martial Arts there is no right or wrong, on...</td>\n",
       "      <td>The Grandmaster</td>\n",
       "      <td>63.0</td>\n",
       "      <td>273.0</td>\n",
       "      <td>Tony Leung Chiu-Wai Zhang Ziyi Song Hye-kyo Ch...</td>\n",
       "      <td>[{'name': 'Wong Kar-wai', 'gender': 2, 'depart...</td>\n",
       "      <td>Wong Kar-wai</td>\n",
       "    </tr>\n",
       "    <tr>\n",
       "      <th>4052</th>\n",
       "      <td>2309.0</td>\n",
       "      <td>0.0</td>\n",
       "      <td>Action</td>\n",
       "      <td>NaN</td>\n",
       "      <td>244339</td>\n",
       "      <td>NaN</td>\n",
       "      <td>cn</td>\n",
       "      <td>????</td>\n",
       "      <td>On the hottest day in 50 years, a serious fire...</td>\n",
       "      <td>1583918</td>\n",
       "      <td>...</td>\n",
       "      <td>1070.0</td>\n",
       "      <td>[{\"iso_639_1\": \"cn\", \"name\": \"\\u5e7f\\u5dde\\u8b...</td>\n",
       "      <td>Released</td>\n",
       "      <td>NaN</td>\n",
       "      <td>Out of Inferno</td>\n",
       "      <td>58.0</td>\n",
       "      <td>11.0</td>\n",
       "      <td>Lau Ching-Wan Angelica Lee Chen Sicheng Natali...</td>\n",
       "      <td>[{'name': 'Danny Pang', 'gender': 2, 'departme...</td>\n",
       "      <td>Danny Pang</td>\n",
       "    </tr>\n",
       "    <tr>\n",
       "      <th>4224</th>\n",
       "      <td>2295.0</td>\n",
       "      <td>0.0</td>\n",
       "      <td>Action Crime</td>\n",
       "      <td>NaN</td>\n",
       "      <td>244114</td>\n",
       "      <td>robbery street war gun battle rogue cop</td>\n",
       "      <td>zh</td>\n",
       "      <td>??</td>\n",
       "      <td>A crew of seasoned criminals led by the notori...</td>\n",
       "      <td>3,37697E+16</td>\n",
       "      <td>...</td>\n",
       "      <td>1100.0</td>\n",
       "      <td>[{\"iso_639_1\": \"zh\", \"name\": \"\\u666e\\u901a\\u8b...</td>\n",
       "      <td>Released</td>\n",
       "      <td>NaN</td>\n",
       "      <td>Firestorm</td>\n",
       "      <td>59.0</td>\n",
       "      <td>43.0</td>\n",
       "      <td>Andy Lau Gordon Lam Ka-Tung Yao Chen Hu Jun Ra...</td>\n",
       "      <td>[{'name': 'William Kong', 'gender': 2, 'depart...</td>\n",
       "      <td>Alan Yuen</td>\n",
       "    </tr>\n",
       "    <tr>\n",
       "      <th>4756</th>\n",
       "      <td>3189.0</td>\n",
       "      <td>0.0</td>\n",
       "      <td>Horror Mystery</td>\n",
       "      <td>NaN</td>\n",
       "      <td>293670</td>\n",
       "      <td>sex small town exorcism investigation daughter</td>\n",
       "      <td>ko</td>\n",
       "      <td>??</td>\n",
       "      <td>A stranger arrives in a little village and soo...</td>\n",
       "      <td>9,05029E+15</td>\n",
       "      <td>...</td>\n",
       "      <td>1560.0</td>\n",
       "      <td>[{\"iso_639_1\": \"ja\", \"name\": \"\\u65e5\\u672c\\u8a...</td>\n",
       "      <td>Released</td>\n",
       "      <td>Never be tempted.</td>\n",
       "      <td>The Wailing</td>\n",
       "      <td>72.0</td>\n",
       "      <td>250.0</td>\n",
       "      <td>Kwak Do-won Hwang Jung-min Chun Woo-hee Jun Ku...</td>\n",
       "      <td>[{'name': 'Kyung-Pyo Hong', 'gender': 0, 'depa...</td>\n",
       "      <td>Na Hong-jin</td>\n",
       "    </tr>\n",
       "  </tbody>\n",
       "</table>\n",
       "<p>5 rows × 24 columns</p>\n",
       "</div>"
      ],
      "text/plain": [
       "       index      budget                              genres  \\\n",
       "3679  1672.0  30000000.0  Adventure Drama Action History War   \n",
       "4014  1304.0   3860000.0                Action Drama History   \n",
       "4052  2309.0         0.0                              Action   \n",
       "4224  2295.0         0.0                        Action Crime   \n",
       "4756  3189.0         0.0                      Horror Mystery   \n",
       "\n",
       "                       homepage      id  \\\n",
       "3679  http://www.1911movie.com/   76349   \n",
       "4014                        NaN   44865   \n",
       "4052                        NaN  244339   \n",
       "4224                        NaN  244114   \n",
       "4756                        NaN  293670   \n",
       "\n",
       "                                            keywords original_language  \\\n",
       "3679    martial arts sword revolution blood gunfight                zh   \n",
       "4014   martial arts kung fu biography kung fu master                zh   \n",
       "4052                                             NaN                cn   \n",
       "4224         robbery street war gun battle rogue cop                zh   \n",
       "4756  sex small town exorcism investigation daughter                ko   \n",
       "\n",
       "     original_title                                           overview  \\\n",
       "3679           ????  At the beginning of the 20th century, China is...   \n",
       "4014           ????  Ip Man's peaceful life in Foshan changes after...   \n",
       "4052           ????  On the hottest day in 50 years, a serious fire...   \n",
       "4224             ??  A crew of seasoned criminals led by the notori...   \n",
       "4756             ??  A stranger arrives in a little village and soo...   \n",
       "\n",
       "       popularity  ... runtime  \\\n",
       "3679      4065212  ...  1250.0   \n",
       "4014  1,99473E+16  ...  1300.0   \n",
       "4052      1583918  ...  1070.0   \n",
       "4224  3,37697E+16  ...  1100.0   \n",
       "4756  9,05029E+15  ...  1560.0   \n",
       "\n",
       "                                       spoken_languages    status  \\\n",
       "3679  [{\"iso_639_1\": \"fr\", \"name\": \"Fran\\u00e7ais\"},...  Released   \n",
       "4014  [{\"iso_639_1\": \"cn\", \"name\": \"\\u5e7f\\u5dde\\u8b...  Released   \n",
       "4052  [{\"iso_639_1\": \"cn\", \"name\": \"\\u5e7f\\u5dde\\u8b...  Released   \n",
       "4224  [{\"iso_639_1\": \"zh\", \"name\": \"\\u666e\\u901a\\u8b...  Released   \n",
       "4756  [{\"iso_639_1\": \"ja\", \"name\": \"\\u65e5\\u672c\\u8a...  Released   \n",
       "\n",
       "                                                tagline            title  \\\n",
       "3679                            Fall of the Last Empire             1911   \n",
       "4014  In Martial Arts there is no right or wrong, on...  The Grandmaster   \n",
       "4052                                                NaN   Out of Inferno   \n",
       "4224                                                NaN        Firestorm   \n",
       "4756                                  Never be tempted.      The Wailing   \n",
       "\n",
       "     vote_average vote_count  \\\n",
       "3679         50.0       41.0   \n",
       "4014         63.0      273.0   \n",
       "4052         58.0       11.0   \n",
       "4224         59.0       43.0   \n",
       "4756         72.0      250.0   \n",
       "\n",
       "                                                   cast  \\\n",
       "3679  Jackie Chan Li Bingbing Joan Chen Jaycee Chan ...   \n",
       "4014  Tony Leung Chiu-Wai Zhang Ziyi Song Hye-kyo Ch...   \n",
       "4052  Lau Ching-Wan Angelica Lee Chen Sicheng Natali...   \n",
       "4224  Andy Lau Gordon Lam Ka-Tung Yao Chen Hu Jun Ra...   \n",
       "4756  Kwak Do-won Hwang Jung-min Chun Woo-hee Jun Ku...   \n",
       "\n",
       "                                                   crew      director  \n",
       "3679  [{'name': 'Jackie Chan', 'gender': 2, 'departm...   Jackie Chan  \n",
       "4014  [{'name': 'Wong Kar-wai', 'gender': 2, 'depart...  Wong Kar-wai  \n",
       "4052  [{'name': 'Danny Pang', 'gender': 2, 'departme...    Danny Pang  \n",
       "4224  [{'name': 'William Kong', 'gender': 2, 'depart...     Alan Yuen  \n",
       "4756  [{'name': 'Kyung-Pyo Hong', 'gender': 0, 'depa...   Na Hong-jin  \n",
       "\n",
       "[5 rows x 24 columns]"
      ]
     },
     "execution_count": 44,
     "metadata": {},
     "output_type": "execute_result"
    }
   ],
   "source": [
    "# verify if there are any duplicate rows in df for original_title\n",
    "df[df.duplicated(['original_title'])]"
   ]
  },
  {
   "cell_type": "code",
   "execution_count": 45,
   "metadata": {},
   "outputs": [
    {
     "name": "stderr",
     "output_type": "stream",
     "text": [
      "/tmp/ipykernel_7011/2027607847.py:2: SettingWithCopyWarning: \n",
      "A value is trying to be set on a copy of a slice from a DataFrame\n",
      "\n",
      "See the caveats in the documentation: https://pandas.pydata.org/pandas-docs/stable/user_guide/indexing.html#returning-a-view-versus-a-copy\n",
      "  df.drop_duplicates(subset=['original_title'], keep='first', inplace=True)\n"
     ]
    }
   ],
   "source": [
    "# remove duplicates for original_title and leave the first occurence\n",
    "df.drop_duplicates(subset=['original_title'], keep='first', inplace=True)"
   ]
  },
  {
   "cell_type": "code",
   "execution_count": 46,
   "metadata": {},
   "outputs": [
    {
     "data": {
      "text/html": [
       "<div>\n",
       "<style scoped>\n",
       "    .dataframe tbody tr th:only-of-type {\n",
       "        vertical-align: middle;\n",
       "    }\n",
       "\n",
       "    .dataframe tbody tr th {\n",
       "        vertical-align: top;\n",
       "    }\n",
       "\n",
       "    .dataframe thead th {\n",
       "        text-align: right;\n",
       "    }\n",
       "</style>\n",
       "<table border=\"1\" class=\"dataframe\">\n",
       "  <thead>\n",
       "    <tr style=\"text-align: right;\">\n",
       "      <th></th>\n",
       "      <th>index</th>\n",
       "      <th>budget</th>\n",
       "      <th>genres</th>\n",
       "      <th>homepage</th>\n",
       "      <th>id</th>\n",
       "      <th>keywords</th>\n",
       "      <th>original_language</th>\n",
       "      <th>original_title</th>\n",
       "      <th>overview</th>\n",
       "      <th>popularity</th>\n",
       "      <th>...</th>\n",
       "      <th>runtime</th>\n",
       "      <th>spoken_languages</th>\n",
       "      <th>status</th>\n",
       "      <th>tagline</th>\n",
       "      <th>title</th>\n",
       "      <th>vote_average</th>\n",
       "      <th>vote_count</th>\n",
       "      <th>cast</th>\n",
       "      <th>crew</th>\n",
       "      <th>director</th>\n",
       "    </tr>\n",
       "  </thead>\n",
       "  <tbody>\n",
       "  </tbody>\n",
       "</table>\n",
       "<p>0 rows × 24 columns</p>\n",
       "</div>"
      ],
      "text/plain": [
       "Empty DataFrame\n",
       "Columns: [index, budget, genres, homepage, id, keywords, original_language, original_title, overview, popularity, production_companies, production_countries, release_date, revenue, runtime, spoken_languages, status, tagline, title, vote_average, vote_count, cast, crew, director]\n",
       "Index: []\n",
       "\n",
       "[0 rows x 24 columns]"
      ]
     },
     "execution_count": 46,
     "metadata": {},
     "output_type": "execute_result"
    }
   ],
   "source": [
    "df[df.duplicated(['original_title'])]"
   ]
  },
  {
   "cell_type": "code",
   "execution_count": 47,
   "metadata": {},
   "outputs": [
    {
     "data": {
      "text/html": [
       "<div>\n",
       "<style scoped>\n",
       "    .dataframe tbody tr th:only-of-type {\n",
       "        vertical-align: middle;\n",
       "    }\n",
       "\n",
       "    .dataframe tbody tr th {\n",
       "        vertical-align: top;\n",
       "    }\n",
       "\n",
       "    .dataframe thead th {\n",
       "        text-align: right;\n",
       "    }\n",
       "</style>\n",
       "<table border=\"1\" class=\"dataframe\">\n",
       "  <thead>\n",
       "    <tr style=\"text-align: right;\">\n",
       "      <th></th>\n",
       "      <th>original_title</th>\n",
       "      <th>overview</th>\n",
       "      <th>popularity</th>\n",
       "      <th>release_date</th>\n",
       "      <th>vote_average</th>\n",
       "      <th>vote_count</th>\n",
       "      <th>budget</th>\n",
       "      <th>keywords</th>\n",
       "      <th>production_companies</th>\n",
       "    </tr>\n",
       "  </thead>\n",
       "  <tbody>\n",
       "  </tbody>\n",
       "</table>\n",
       "</div>"
      ],
      "text/plain": [
       "Empty DataFrame\n",
       "Columns: [original_title, overview, popularity, release_date, vote_average, vote_count, budget, keywords, production_companies]\n",
       "Index: []"
      ]
     },
     "execution_count": 47,
     "metadata": {},
     "output_type": "execute_result"
    }
   ],
   "source": [
    "df3[df3.duplicated(['original_title'])]"
   ]
  },
  {
   "cell_type": "code",
   "execution_count": 48,
   "metadata": {},
   "outputs": [
    {
     "data": {
      "text/plain": [
       "(280, 9)"
      ]
     },
     "execution_count": 48,
     "metadata": {},
     "output_type": "execute_result"
    }
   ],
   "source": [
    "df3.shape"
   ]
  },
  {
   "cell_type": "code",
   "execution_count": 49,
   "metadata": {},
   "outputs": [
    {
     "name": "stdout",
     "output_type": "stream",
     "text": [
      "Defaulting to user installation because normal site-packages is not writeable\n",
      "Requirement already satisfied: numpy in /home/galo/.local/lib/python3.10/site-packages (1.25.0)\n",
      "Note: you may need to restart the kernel to use updated packages.\n"
     ]
    }
   ],
   "source": [
    "pip install numpy"
   ]
  },
  {
   "cell_type": "code",
   "execution_count": 50,
   "metadata": {},
   "outputs": [],
   "source": [
    "\n",
    "import numpy as np"
   ]
  },
  {
   "cell_type": "code",
   "execution_count": 51,
   "metadata": {},
   "outputs": [
    {
     "name": "stderr",
     "output_type": "stream",
     "text": [
      "/tmp/ipykernel_7011/2296515105.py:2: SettingWithCopyWarning: \n",
      "A value is trying to be set on a copy of a slice from a DataFrame.\n",
      "Try using .loc[row_indexer,col_indexer] = value instead\n",
      "\n",
      "See the caveats in the documentation: https://pandas.pydata.org/pandas-docs/stable/user_guide/indexing.html#returning-a-view-versus-a-copy\n",
      "  df['keywords'] = df['keywords'].astype(str)\n"
     ]
    }
   ],
   "source": [
    "# Convert the 'keywords' column to string type in both dataframes\n",
    "df['keywords'] = df['keywords'].astype(str)\n",
    "df3['keywords'] = df3['keywords'].astype(str)\n",
    "\n",
    "# Concatenate df and df3 along the rows\n",
    "merged_df = pd.concat([df, df3], axis=0)\n",
    "\n",
    "# Drop duplicates based on 'original_title' and 'keywords'\n",
    "merged_df = merged_df.drop_duplicates(subset=['original_title', 'keywords'], keep='last')\n",
    "\n",
    "# Fill missing values with NaN\n",
    "merged_df = merged_df.fillna(np.nan)"
   ]
  },
  {
   "cell_type": "code",
   "execution_count": 52,
   "metadata": {},
   "outputs": [
    {
     "data": {
      "text/plain": [
       "(865, 24)"
      ]
     },
     "execution_count": 52,
     "metadata": {},
     "output_type": "execute_result"
    }
   ],
   "source": [
    "# count how many rows in the dataset after the merge\n",
    "merged_df.shape"
   ]
  },
  {
   "cell_type": "code",
   "execution_count": 53,
   "metadata": {},
   "outputs": [
    {
     "data": {
      "text/plain": [
       "Index(['index', 'budget', 'genres', 'homepage', 'id', 'keywords',\n",
       "       'original_language', 'original_title', 'overview', 'popularity',\n",
       "       'production_companies', 'production_countries', 'release_date',\n",
       "       'revenue', 'runtime', 'spoken_languages', 'status', 'tagline', 'title',\n",
       "       'vote_average', 'vote_count', 'cast', 'crew', 'director'],\n",
       "      dtype='object')"
      ]
     },
     "execution_count": 53,
     "metadata": {},
     "output_type": "execute_result"
    }
   ],
   "source": [
    "merged_df.columns"
   ]
  },
  {
   "cell_type": "code",
   "execution_count": 54,
   "metadata": {},
   "outputs": [],
   "source": [
    "# drop unnecesaary columns\n",
    "merged_df.drop(['index', 'genres', 'homepage', 'id', 'original_language', 'original_title', 'production_countries', 'revenue', 'runtime', 'spoken_languages', 'status', 'tagline', 'cast', 'crew', 'director'], axis=1, inplace=True)"
   ]
  },
  {
   "cell_type": "code",
   "execution_count": 65,
   "metadata": {},
   "outputs": [],
   "source": [
    "import re\n",
    "# Replace all occurrences of '?' with NaN where there is more than one '?'\n",
    "merged_df = merged_df.replace(to_replace=r'\\?{2,}', value=np.nan, regex=True)\n"
   ]
  },
  {
   "cell_type": "code",
   "execution_count": 66,
   "metadata": {},
   "outputs": [],
   "source": [
    "# create a csv file from merged_df\n",
    "merged_df.to_csv('data/merged_df.csv', index=False)"
   ]
  }
 ],
 "metadata": {
  "kernelspec": {
   "display_name": "Python 3",
   "language": "python",
   "name": "python3"
  },
  "language_info": {
   "codemirror_mode": {
    "name": "ipython",
    "version": 3
   },
   "file_extension": ".py",
   "mimetype": "text/x-python",
   "name": "python",
   "nbconvert_exporter": "python",
   "pygments_lexer": "ipython3",
   "version": "3.10.12"
  },
  "orig_nbformat": 4
 },
 "nbformat": 4,
 "nbformat_minor": 2
}
