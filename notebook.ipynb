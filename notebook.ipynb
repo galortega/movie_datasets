{
 "cells": [
  {
   "cell_type": "code",
   "execution_count": 1,
   "metadata": {},
   "outputs": [],
   "source": [
    "import pandas as pd"
   ]
  },
  {
   "cell_type": "code",
   "execution_count": null,
   "metadata": {},
   "outputs": [],
   "source": [
    "import chardet\n",
    "\n",
    "# Lee el contenido del archivo CSV como bytes\n",
    "with open('data/movie_dataset.csv', 'rb') as file:\n",
    "    rawdata = file.read()\n",
    "\n",
    "# Utiliza chardet para detectar el encoding más probable\n",
    "result = chardet.detect(rawdata)\n",
    "encoding = result['encoding']\n",
    "\n",
    "print(f\"El encoding más probable es: {encoding}\")\n",
    "\n"
   ]
  },
  {
   "cell_type": "code",
   "execution_count": 18,
   "metadata": {},
   "outputs": [],
   "source": [
    "df1 = pd.read_csv(\"data/movie_dataset.csv\", delimiter=\";\", encoding='Windows-1252')"
   ]
  },
  {
   "cell_type": "code",
   "execution_count": null,
   "metadata": {},
   "outputs": [],
   "source": [
    "df2 = pd.read_csv(\"data/IMDB Dataset.csv\", delimiter=\";\", encoding=\"latin-1\")"
   ]
  },
  {
   "cell_type": "code",
   "execution_count": null,
   "metadata": {},
   "outputs": [],
   "source": [
    "data = {'review': [], 'sentiment': \"\"}\n",
    "\n",
    "df = pd.DataFrame(data)\n",
    "\n",
    "for row in df2.itertuples():\n",
    "    data[\"review\"].append((row._1).split(\"<br /><br />\"))\n",
    "    if (row._1).split(\"<br /><br />\")[-1].find(\"positive\") != -1:\n",
    "        data[\"sentiment\"] = \"positive\"\n",
    "    else:\n",
    "        data[\"sentiment\"] = \"negative\"\n",
    "\n",
    "df = pd.DataFrame(data)\n"
   ]
  },
  {
   "cell_type": "code",
   "execution_count": null,
   "metadata": {},
   "outputs": [],
   "source": [
    "print(df1.columns)"
   ]
  },
  {
   "cell_type": "code",
   "execution_count": null,
   "metadata": {},
   "outputs": [],
   "source": [
    "print(df1[['original_title']])"
   ]
  },
  {
   "cell_type": "code",
   "execution_count": null,
   "metadata": {},
   "outputs": [],
   "source": [
    "import requests\n",
    "from bs4 import BeautifulSoup\n",
    "nombre_pelicula = 'Warlock'\n",
    "URL = f\"https://www.rottentomatoes.com/search?search={nombre_pelicula}\"\n",
    "\n",
    "pagina = requests.get(URL)\n",
    "\n",
    "soup = BeautifulSoup(pagina.content, \"html.parser\")\n",
    "\n",
    "enlace_pelicula = soup.find_all(\"a\", class_=\"unset\")[7][\"href\"]\n",
    "pagina_pelicula = requests.get(enlace_pelicula)\n",
    "soup_pelicula = BeautifulSoup(pagina_pelicula.content, \"html.parser\")\n",
    "year = soup_pelicula.find(\"time\").text.strip().split(\", \")[-1]\n",
    "url_criticas = \"https://www.rottentomatoes.com\" + str(soup_pelicula.find_all(\"a\")[103][\"href\"])\n",
    "enlace_criticas = requests.get(url_criticas)\n",
    "soup_criticas = BeautifulSoup(enlace_criticas.content, \"html.parser\")\n",
    "opiniones_publico=[]\n",
    "for i in soup_criticas.find_all(\"p\", class_=\"review-text\"):\n",
    "    opiniones_publico.append(i.text)\n",
    "print(f\"Año de creación de {nombre_pelicula}: {year}\")\n",
    "print(f\"Opiniones del público de {nombre_pelicula}: {opiniones_publico}\")\n",
    "\n"
   ]
  }
 ],
 "metadata": {
  "kernelspec": {
   "display_name": "Python 3",
   "language": "python",
   "name": "python3"
  },
  "language_info": {
   "codemirror_mode": {
    "name": "ipython",
    "version": 3
   },
   "file_extension": ".py",
   "mimetype": "text/x-python",
   "name": "python",
   "nbconvert_exporter": "python",
   "pygments_lexer": "ipython3",
   "version": "3.10.7"
  },
  "orig_nbformat": 4
 },
 "nbformat": 4,
 "nbformat_minor": 2
}
