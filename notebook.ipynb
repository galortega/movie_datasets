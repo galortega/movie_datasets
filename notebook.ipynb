{
 "cells": [
  {
   "cell_type": "code",
   "execution_count": 125,
   "metadata": {},
   "outputs": [],
   "source": [
    "import pandas as pd\n",
    "import requests\n",
    "from bs4 import BeautifulSoup"
   ]
  },
  {
   "cell_type": "code",
   "execution_count": 94,
   "metadata": {},
   "outputs": [
    {
     "name": "stdout",
     "output_type": "stream",
     "text": [
      "El encoding más probable es: utf-8\n"
     ]
    }
   ],
   "source": [
    "import chardet\n",
    "\n",
    "# Lee el contenido del archivo CSV como bytes\n",
    "with open('data/peliculas.csv', 'rb') as file:\n",
    "    rawdata = file.read()\n",
    "\n",
    "# Utiliza chardet para detectar el encoding más probable\n",
    "result = chardet.detect(rawdata)\n",
    "encoding = result['encoding']\n",
    "\n",
    "print(f\"El encoding más probable es: {encoding}\")\n",
    "\n"
   ]
  },
  {
   "cell_type": "code",
   "execution_count": 126,
   "metadata": {},
   "outputs": [],
   "source": [
    "df1 = pd.read_csv(\"data/peliculas.csv\", delimiter=\",\", encoding='utf-8')"
   ]
  },
  {
   "cell_type": "code",
   "execution_count": 127,
   "metadata": {},
   "outputs": [
    {
     "name": "stdout",
     "output_type": "stream",
     "text": [
      "Index(['original_title,\"overview\",\"popularity\",\"release_date\",\"vote_average\",\"vote_count\",\"budget\",\"keywords\",\"director\",\"comentarios\"'], dtype='object')\n"
     ]
    }
   ],
   "source": [
    "print(df1.columns)"
   ]
  },
  {
   "cell_type": "code",
   "execution_count": 142,
   "metadata": {},
   "outputs": [],
   "source": [
    "def sacar_comentarios(nombre_pelicula):\n",
    "    URL = f\"https://www.rottentomatoes.com/search?search={nombre_pelicula}\"\n",
    "    print(URL)\n",
    "    pagina = requests.get(URL)\n",
    "    soup = BeautifulSoup(pagina.content, \"html.parser\")\n",
    "    enlace_pelicula = soup.find_all('ul', attrs={'slot': 'list'})\n",
    "    if len(enlace_pelicula) >= 3:\n",
    "        search = enlace_pelicula[1].find('search-page-media-row')\n",
    "        search_a = search.find('a')\n",
    "        enlace_pelicula = search_a.get('href')\n",
    "    else:\n",
    "        search = enlace_pelicula[0].find('search-page-media-row')\n",
    "        search_a = search.find('a')\n",
    "        enlace_pelicula = search_a.get('href')\n",
    "    pagina_pelicula = requests.get(enlace_pelicula)\n",
    "    soup_pelicula = BeautifulSoup(pagina_pelicula.content, \"html.parser\")\n",
    "    link = (soup_pelicula.find_all('a', attrs={'data-qa': 'critic-reviews-top-filter'}))[0].get('href')\n",
    "    url_criticas = \"https://www.rottentomatoes.com\" + link\n",
    "    enlace_criticas = requests.get(url_criticas)\n",
    "    soup_criticas = BeautifulSoup(enlace_criticas.content, \"html.parser\")\n",
    "    opiniones_publico=[]\n",
    "    for i in soup_criticas.find_all(\"p\", class_=\"review-text\"):\n",
    "        opiniones_publico.append(i.text)\n",
    "    return opiniones_publico"
   ]
  },
  {
   "cell_type": "code",
   "execution_count": null,
   "metadata": {},
   "outputs": [],
   "source": [
    "for index, row in df1[['original_title,\"overview\",\"popularity\",\"release_date\",\"vote_average\",\"vote_count\",\"budget\",\"keywords\",\"director\",\"comentarios\"']].iterrows():\n",
    "    # Accede a los valores de las columnas para cada fila\n",
    "    print(row['original_title,\"overview\",\"popularity\",\"release_date\",\"vote_average\",\"vote_count\",\"budget\",\"keywords\",\"director\",\"comentarios\"'])"
   ]
  },
  {
   "cell_type": "code",
   "execution_count": 145,
   "metadata": {},
   "outputs": [
    {
     "name": "stdout",
     "output_type": "stream",
     "text": [
      "https://www.rottentomatoes.com/search?search=Intolerance\n"
     ]
    },
    {
     "ename": "TypeError",
     "evalue": "sequence item 11: expected str instance, list found",
     "output_type": "error",
     "traceback": [
      "\u001b[1;31m---------------------------------------------------------------------------\u001b[0m",
      "\u001b[1;31mTypeError\u001b[0m                                 Traceback (most recent call last)",
      "\u001b[1;32mc:\\Users\\DELL-USER\\Documents\\metodologia de la investigacion\\movie_datasets\\notebook.ipynb Cell 7\u001b[0m in \u001b[0;36m1\n\u001b[0;32m      <a href='vscode-notebook-cell:/c%3A/Users/DELL-USER/Documents/metodologia%20de%20la%20investigacion/movie_datasets/notebook.ipynb#W6sZmlsZQ%3D%3D?line=7'>8</a>\u001b[0m     comentarios \u001b[39m=\u001b[39m sacar_comentarios(nombre_peli)\n\u001b[0;32m      <a href='vscode-notebook-cell:/c%3A/Users/DELL-USER/Documents/metodologia%20de%20la%20investigacion/movie_datasets/notebook.ipynb#W6sZmlsZQ%3D%3D?line=8'>9</a>\u001b[0m     fila[\u001b[39m-\u001b[39m\u001b[39m1\u001b[39m] \u001b[39m=\u001b[39m comentarios\n\u001b[1;32m---> <a href='vscode-notebook-cell:/c%3A/Users/DELL-USER/Documents/metodologia%20de%20la%20investigacion/movie_datasets/notebook.ipynb#W6sZmlsZQ%3D%3D?line=9'>10</a>\u001b[0m     fila_unida \u001b[39m=\u001b[39m \u001b[39m\"\u001b[39;49m\u001b[39m, \u001b[39;49m\u001b[39m\"\u001b[39;49m\u001b[39m.\u001b[39;49mjoin(fila)\n\u001b[0;32m     <a href='vscode-notebook-cell:/c%3A/Users/DELL-USER/Documents/metodologia%20de%20la%20investigacion/movie_datasets/notebook.ipynb#W6sZmlsZQ%3D%3D?line=10'>11</a>\u001b[0m     dataF\u001b[39m.\u001b[39mloc[indice, \u001b[39m'\u001b[39m\u001b[39moriginal_title,\u001b[39m\u001b[39m\"\u001b[39m\u001b[39moverview\u001b[39m\u001b[39m\"\u001b[39m\u001b[39m,\u001b[39m\u001b[39m\"\u001b[39m\u001b[39mpopularity\u001b[39m\u001b[39m\"\u001b[39m\u001b[39m,\u001b[39m\u001b[39m\"\u001b[39m\u001b[39mrelease_date\u001b[39m\u001b[39m\"\u001b[39m\u001b[39m,\u001b[39m\u001b[39m\"\u001b[39m\u001b[39mvote_average\u001b[39m\u001b[39m\"\u001b[39m\u001b[39m,\u001b[39m\u001b[39m\"\u001b[39m\u001b[39mvote_count\u001b[39m\u001b[39m\"\u001b[39m\u001b[39m,\u001b[39m\u001b[39m\"\u001b[39m\u001b[39mbudget\u001b[39m\u001b[39m\"\u001b[39m\u001b[39m,\u001b[39m\u001b[39m\"\u001b[39m\u001b[39mkeywords\u001b[39m\u001b[39m\"\u001b[39m\u001b[39m,\u001b[39m\u001b[39m\"\u001b[39m\u001b[39mdirector\u001b[39m\u001b[39m\"\u001b[39m\u001b[39m,\u001b[39m\u001b[39m\"\u001b[39m\u001b[39mcomentarios\u001b[39m\u001b[39m\"\u001b[39m\u001b[39m'\u001b[39m] \u001b[39m=\u001b[39m fila_unida\n\u001b[0;32m     <a href='vscode-notebook-cell:/c%3A/Users/DELL-USER/Documents/metodologia%20de%20la%20investigacion/movie_datasets/notebook.ipynb#W6sZmlsZQ%3D%3D?line=12'>13</a>\u001b[0m \u001b[39mprint\u001b[39m (dataF)\n",
      "\u001b[1;31mTypeError\u001b[0m: sequence item 11: expected str instance, list found"
     ]
    }
   ],
   "source": [
    "# Supongamos que tienes un DataFrame llamado df\n",
    "dataF = df1.head(10)\n",
    "indice = 0 \n",
    "for index, row in dataF.iterrows():\n",
    "    fila = row['original_title,\"overview\",\"popularity\",\"release_date\",\"vote_average\",\"vote_count\",\"budget\",\"keywords\",\"director\",\"comentarios\"'].split(\",\")\n",
    "    # Accede a los valores de las columnas para cada fila\n",
    "    nombre_peli= fila[0]\n",
    "    comentarios = sacar_comentarios(nombre_peli)\n",
    "    fila[-1] = comentarios\n",
    "    fila_unida = \", \".join(fila)\n",
    "    dataF.loc[indice, 'original_title,\"overview\",\"popularity\",\"release_date\",\"vote_average\",\"vote_count\",\"budget\",\"keywords\",\"director\",\"comentarios\"'] = fila_unida\n",
    "\n",
    "print (dataF)\n",
    "\n",
    "\n",
    "\n"
   ]
  },
  {
   "cell_type": "code",
   "execution_count": 134,
   "metadata": {},
   "outputs": [
    {
     "name": "stdout",
     "output_type": "stream",
     "text": [
      "https://www.rottentomatoes.com/search?search=The Big Parade\n",
      "https://www.rottentomatoes.com/m/the_big_parade_1986\n",
      "https://www.rottentomatoes.com/m/the_big_parade_1986/reviews?type=top_critics\n",
      "Opiniones del público de The Big Parade: \n",
      "[\"You may not be moved to join up, but you can't help coming away with a more direct understanding of the message of collecive effort that the Chinese authorities are trying to drum into their countrymen.\"]\n"
     ]
    }
   ],
   "source": [
    "\n"
   ]
  },
  {
   "cell_type": "code",
   "execution_count": 132,
   "metadata": {},
   "outputs": [
    {
     "name": "stdout",
     "output_type": "stream",
     "text": [
      "https://www.rottentomatoes.com/search?search=Intolerance\n",
      "https://www.rottentomatoes.com/m/1010644-intolerance\n"
     ]
    }
   ],
   "source": [
    "nombre_pelicula = 'Intolerance'\n",
    "URL = f\"https://www.rottentomatoes.com/search?search={nombre_pelicula}\"\n",
    "print(URL)\n",
    "pagina = requests.get(URL)\n",
    "\n",
    "soup = BeautifulSoup(pagina.content, \"html.parser\")\n",
    "enlace_pelicula = soup.find_all('ul', attrs={'slot': 'list'})\n",
    "if len(enlace_pelicula) >= 3:\n",
    "    search = enlace_pelicula[1].find('search-page-media-row')\n",
    "    search_a = search.find('a')\n",
    "    enlace_pelicula = search_a.get('href')\n",
    "else:\n",
    "    search = enlace_pelicula[0].find('search-page-media-row')\n",
    "    search_a = search.find('a')\n",
    "    enlace_pelicula = search_a.get('href')\n",
    "print(enlace_pelicula)"
   ]
  }
 ],
 "metadata": {
  "kernelspec": {
   "display_name": "Python 3",
   "language": "python",
   "name": "python3"
  },
  "language_info": {
   "codemirror_mode": {
    "name": "ipython",
    "version": 3
   },
   "file_extension": ".py",
   "mimetype": "text/x-python",
   "name": "python",
   "nbconvert_exporter": "python",
   "pygments_lexer": "ipython3",
   "version": "3.10.7"
  },
  "orig_nbformat": 4
 },
 "nbformat": 4,
 "nbformat_minor": 2
}
